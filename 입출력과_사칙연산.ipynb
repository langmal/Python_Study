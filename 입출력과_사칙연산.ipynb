{
  "nbformat": 4,
  "nbformat_minor": 0,
  "metadata": {
    "colab": {
      "provenance": [],
      "collapsed_sections": [],
      "toc_visible": true
    },
    "kernelspec": {
      "name": "python3",
      "display_name": "Python 3"
    },
    "language_info": {
      "name": "python"
    }
  },
  "cells": [
    {
      "cell_type": "markdown",
      "source": [
        "## 입출력과 사칙연산"
      ],
      "metadata": {
        "id": "xTqteZ2MX22b"
      }
    },
    {
      "cell_type": "code",
      "execution_count": null,
      "metadata": {
        "colab": {
          "base_uri": "https://localhost:8080/"
        },
        "id": "Yaty0FNSXokd",
        "outputId": "2ceb0766-d300-452a-9c0a-f3620b201b76"
      },
      "outputs": [
        {
          "output_type": "stream",
          "name": "stdout",
          "text": [
            "Hello World!\n"
          ]
        }
      ],
      "source": [
        "print(\"Hello World!\")"
      ]
    },
    {
      "cell_type": "code",
      "source": [
        "print(\"강한친구 대한육군\") \n",
        "print(\"강한친구 대한육군\")"
      ],
      "metadata": {
        "colab": {
          "base_uri": "https://localhost:8080/"
        },
        "id": "kMHAHW3mXwgt",
        "outputId": "048ee8ca-41a6-48a0-f356-819e02361e2f"
      },
      "execution_count": null,
      "outputs": [
        {
          "output_type": "stream",
          "name": "stdout",
          "text": [
            "강한친구 대한육군\n",
            "강한친구 대한육군\n"
          ]
        }
      ]
    },
    {
      "cell_type": "code",
      "source": [
        "A, B = input().split()\n",
        "A = int(A)\n",
        "B = int(B)\n",
        "print(A / B)"
      ],
      "metadata": {
        "colab": {
          "base_uri": "https://localhost:8080/"
        },
        "id": "4BXsF--_X73r",
        "outputId": "fb416701-04c0-4833-f58d-02ae5cb41936"
      },
      "execution_count": null,
      "outputs": [
        {
          "output_type": "stream",
          "name": "stdout",
          "text": [
            "2 3\n",
            "0.6666666666666666\n"
          ]
        }
      ]
    },
    {
      "cell_type": "code",
      "source": [
        "A, B = input().split()\n",
        "A = int(A)\n",
        "B = int(B)\n",
        "\n",
        "print(A + B)\n",
        "print(A - B)\n",
        "print(A * B)\n",
        "print(int(A / B))\n",
        "print(A % B)"
      ],
      "metadata": {
        "colab": {
          "base_uri": "https://localhost:8080/"
        },
        "id": "SWEKxgruX--c",
        "outputId": "fdb86b94-d78e-45a1-e258-dc1ce3a87348"
      },
      "execution_count": null,
      "outputs": [
        {
          "output_type": "stream",
          "name": "stdout",
          "text": [
            "6 5\n",
            "11\n",
            "1\n",
            "30\n",
            "1\n",
            "1\n"
          ]
        }
      ]
    },
    {
      "cell_type": "code",
      "source": [
        "id = input()\n",
        "print(id + '??!')"
      ],
      "metadata": {
        "colab": {
          "base_uri": "https://localhost:8080/"
        },
        "id": "6qYq1FUiYBAL",
        "outputId": "9b064c8e-5ca2-4bdc-c5c0-767976387d1c"
      },
      "execution_count": null,
      "outputs": [
        {
          "output_type": "stream",
          "name": "stdout",
          "text": [
            "lang\n",
            "lang??!\n"
          ]
        }
      ]
    },
    {
      "cell_type": "code",
      "source": [
        "year = input()\n",
        "year = int(year)\n",
        "\n",
        "print(year-(2541-1998))"
      ],
      "metadata": {
        "colab": {
          "base_uri": "https://localhost:8080/"
        },
        "id": "g1RuJRYuYCYT",
        "outputId": "1b21e897-2f10-4b3f-e375-7d4ebe9a95bf"
      },
      "execution_count": null,
      "outputs": [
        {
          "output_type": "stream",
          "name": "stdout",
          "text": [
            "2001\n",
            "1458\n"
          ]
        }
      ]
    },
    {
      "cell_type": "code",
      "source": [
        "king, queen, rook, bishop, knight, pawn = input().split()\n",
        "king = int(king)\n",
        "queen = int(queen)\n",
        "rook = int(rook)\n",
        "bishop = int(bishop)\n",
        "knight = int(knight)\n",
        "pawn = int(pawn)\n",
        "\n",
        "print(1- king, 1 - queen, 2 - rook, 2 - bishop, 2 - knight, 8 - pawn)"
      ],
      "metadata": {
        "colab": {
          "base_uri": "https://localhost:8080/"
        },
        "id": "FxnTO1AxYDvz",
        "outputId": "aab1d1e3-215c-4e34-e1b1-70c4e1f67722"
      },
      "execution_count": null,
      "outputs": [
        {
          "output_type": "stream",
          "name": "stdout",
          "text": [
            "1 2 3 5 6 4\n",
            "0 -1 -1 -3 -4 4\n"
          ]
        }
      ]
    },
    {
      "cell_type": "code",
      "source": [
        "chess = [1, 1, 2, 2, 2, 8]\n",
        "li = list(map(int, input().split()))\n",
        "for i in range(6):\n",
        "    print(chess[i]-li[i], end=' ')"
      ],
      "metadata": {
        "colab": {
          "base_uri": "https://localhost:8080/"
        },
        "id": "cVOWA2M3YEJx",
        "outputId": "8a8c134b-493e-4d32-dff3-6e49a3c14ce8"
      },
      "execution_count": null,
      "outputs": [
        {
          "output_type": "stream",
          "name": "stdout",
          "text": [
            "1 2 3 5 6 4\n",
            "0 -1 -1 -3 -4 4 "
          ]
        }
      ]
    },
    {
      "cell_type": "code",
      "source": [
        "A, B, C  = input().split()\n",
        "A = int(A)\n",
        "B = int(B)\n",
        "C = int(C)\n",
        "\n",
        "print((A+B)%C)\n",
        "print(((A%C) + (B%C))%C)\n",
        "print((A*B)%C)\n",
        "print(((A%C) * (B%C))%C)"
      ],
      "metadata": {
        "colab": {
          "base_uri": "https://localhost:8080/"
        },
        "id": "qPkMMBrJYFhx",
        "outputId": "684fc8f6-0f41-4ee9-f3a5-ddf57f0ec57a"
      },
      "execution_count": null,
      "outputs": [
        {
          "output_type": "stream",
          "name": "stdout",
          "text": [
            "3 8 6\n",
            "5\n",
            "5\n",
            "0\n",
            "0\n"
          ]
        }
      ]
    },
    {
      "cell_type": "code",
      "source": [
        "A = input()\n",
        "B = input()\n",
        "\n",
        "print(int(A)*int(B[2]))\n",
        "print(int(A)*int(B[1]))\n",
        "print(int(A)*int(B[0]))\n",
        "print(int(A)*int(B))"
      ],
      "metadata": {
        "colab": {
          "base_uri": "https://localhost:8080/"
        },
        "id": "j4a4IpggYGcp",
        "outputId": "b652b8d4-6fbe-4c57-b78f-80e7f157779f"
      },
      "execution_count": null,
      "outputs": [
        {
          "output_type": "stream",
          "name": "stdout",
          "text": [
            "123\n",
            "456\n",
            "738\n",
            "615\n",
            "492\n",
            "56088\n"
          ]
        }
      ]
    },
    {
      "cell_type": "code",
      "source": [
        "print(\"\\\\    /\\\\ \")\n",
        "print(\" )  ( \\') \")\n",
        "print(\"(  /  ) \")\n",
        "print(\" \\\\(__)| \")"
      ],
      "metadata": {
        "colab": {
          "base_uri": "https://localhost:8080/"
        },
        "id": "oBML_-rFYJeJ",
        "outputId": "5be71798-34e1-48f6-8749-332ce13d6831"
      },
      "execution_count": null,
      "outputs": [
        {
          "output_type": "stream",
          "name": "stdout",
          "text": [
            "\\    /\\ \n",
            " )  ( ') \n",
            "(  /  ) \n",
            " \\(__)| \n"
          ]
        }
      ]
    },
    {
      "cell_type": "code",
      "source": [
        "print(\"|\\\\_/|\")\n",
        "print(\"|q p|   /}\")\n",
        "print('( 0 )\"\"\"\\\\')\n",
        "print('|\"^\"`    |')\n",
        "print(\"||_/=\\\\\\\\__|\")"
      ],
      "metadata": {
        "colab": {
          "base_uri": "https://localhost:8080/"
        },
        "id": "3Ct5DeIlYIdS",
        "outputId": "d771ef33-ec83-4c92-8c0f-32b5558768e5"
      },
      "execution_count": null,
      "outputs": [
        {
          "output_type": "stream",
          "name": "stdout",
          "text": [
            "|\\_/|\n",
            "|q p|   /}\n",
            "( 0 )\"\"\"\\\n",
            "|\"^\"`    |\n",
            "||_/=\\\\__|\n"
          ]
        }
      ]
    },
    {
      "cell_type": "code",
      "source": [
        "print(\"         ,r'\\\"7\")\n",
        "print(\"r`-_   ,'  ,/\")\n",
        "print(\" \\. \\\". L_r'\")\n",
        "print(\"   `~\\/\")\n",
        "print(\"      |\")\n",
        "print(\"      |\")"
      ],
      "metadata": {
        "colab": {
          "base_uri": "https://localhost:8080/"
        },
        "id": "4nFdtylcYMa6",
        "outputId": "796931d0-c0b6-4d47-9963-04aa857bb9d9"
      },
      "execution_count": null,
      "outputs": [
        {
          "output_type": "stream",
          "name": "stdout",
          "text": [
            "         ,r'\"7\n",
            "r`-_   ,'  ,/\n",
            " \\. \". L_r'\n",
            "   `~\\/\n",
            "      |\n",
            "      |\n"
          ]
        }
      ]
    }
  ]
}